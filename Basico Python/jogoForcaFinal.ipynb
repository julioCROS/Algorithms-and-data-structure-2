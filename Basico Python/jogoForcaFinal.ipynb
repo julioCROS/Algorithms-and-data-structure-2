{
 "cells": [
  {
   "cell_type": "markdown",
   "metadata": {},
   "source": [
    "Implemente as funções abaixo. Você não deverá usar variáveis globais."
   ]
  },
  {
   "cell_type": "code",
   "execution_count": null,
   "metadata": {},
   "outputs": [],
   "source": [
    "from typing import List, Set"
   ]
  },
  {
   "cell_type": "code",
   "execution_count": 1,
   "metadata": {
    "colab": {},
    "colab_type": "code",
    "id": "oP-SSFJMKxbw"
   },
   "outputs": [],
   "source": [
    "from typing import List, Set\n",
    "from random import randrange\n",
    "def escolhe_palavra(arr_palavras:List[str]) -> str:\n",
    "    \"\"\"\n",
    "    Atividade 1: Escolhe aleatoriamente uma posição do vetor de arr_palavras\n",
    "    use e entenda a biblioteca random do python para isso.\n",
    "    Não esqueça de dar import na biblioteca. Coloque isso n célula acima\n",
    "    \"\"\"\n",
    "    numero_random = randrange(0, len(arr_palavras) - 1)\n",
    "    indice_palavra = numero_random\n",
    "    return arr_palavras[indice_palavra]"
   ]
  },
  {
   "cell_type": "code",
   "execution_count": 2,
   "metadata": {
    "colab": {},
    "colab_type": "code",
    "id": "LzFJmwhULVJP"
   },
   "outputs": [
    {
     "name": "stdout",
     "output_type": "stream",
     "text": [
      "Palavra escolhida: Python\n"
     ]
    }
   ],
   "source": [
    "arr_palavras = ['TWICE', 'Jupyter', 'Python', 'CEFET']\n",
    "print('Palavra escolhida: ' + escolhe_palavra(arr_palavras))"
   ]
  },
  {
   "cell_type": "code",
   "execution_count": 3,
   "metadata": {
    "colab": {},
    "colab_type": "code",
    "id": "-m_T1uUiK-jp"
   },
   "outputs": [],
   "source": [
    "def obtem_posicoes_letra(palavra:str, letra:str, set_positions:set):\n",
    "    \"\"\"\n",
    "    Atividade 2: Em uma determinada palavra, obtem as posições em que\n",
    "    ocorre a letra, ambas passadas como paramtro\n",
    "    \"\"\"\n",
    "    set_posicoes = set_positions\n",
    "    #navega na palavra, substitua o \"None\" corretamente\n",
    "    #é possivel navegar em uma palavra como se fosse uma lista de letras\n",
    "    #ou seja, os mesmos comandos que funcionam em uma lista funcionam em uma string\n",
    "    for i, letra_palavra in enumerate(palavra):\n",
    "        if letra_palavra == letra:\n",
    "        #substitua o pass para adicionar em set_posicoes as posições desta letra (passad como parametro)\n",
    "        #na palavra\n",
    "         set_posicoes.add(i)\n",
    "    return set_posicoes"
   ]
  },
  {
   "cell_type": "code",
   "execution_count": 4,
   "metadata": {
    "colab": {},
    "colab_type": "code",
    "id": "k3LulOUBLbiC",
    "scrolled": true
   },
   "outputs": [
    {
     "name": "stdout",
     "output_type": "stream",
     "text": [
      "{1}\n"
     ]
    }
   ],
   "source": [
    "palavra = 'TWICE'\n",
    "letra = 'W'\n",
    "set_positions = set()\n",
    "print(obtem_posicoes_letra(palavra, letra, set_positions))"
   ]
  },
  {
   "cell_type": "code",
   "execution_count": 5,
   "metadata": {
    "colab": {},
    "colab_type": "code",
    "id": "dk8OJgxGLOog"
   },
   "outputs": [],
   "source": [
    "from IPython.display import clear_output\n",
    "def obtem_palavra_exibida(posicao:int, posicoes_descobertas:set()):\n",
    "    return posicao in posicoes_descobertas\n",
    "\n",
    "def imprime_forca(palavra_forca:str, posicoes_descobertas:set()):\n",
    "    \"\"\"\n",
    "    Atividade 3: Imprime a palavra a ser exibida na tela\n",
    "    exibindo apenas os caracteres das posições descobertas. \n",
    "    Por exemplo, se a palavra for \"casaco\" e as posições descobertas \n",
    "    forem {1,3,5}, será impresso \"_ a _ a _ o\"\n",
    "    \n",
    "    Nesta atividade, você deverá alterar apenas o if apropriadamente.\n",
    "    \"\"\"\n",
    "    clear_output(wait = False)\n",
    "    for posicao,letra in enumerate(palavra_forca):\n",
    "        palavra_exibida = obtem_palavra_exibida(posicao, posicoes_descobertas)\n",
    "        if palavra_exibida:\n",
    "            print(letra, end = \" \")\n",
    "        else:\n",
    "            print(\"_\", end = \" \")"
   ]
  },
  {
   "cell_type": "code",
   "execution_count": 6,
   "metadata": {
    "colab": {},
    "colab_type": "code",
    "id": "j4J5eA54LhmE"
   },
   "outputs": [
    {
     "name": "stdout",
     "output_type": "stream",
     "text": [
      "P y _ h _ _ "
     ]
    }
   ],
   "source": [
    "palavra_forca = 'Python'\n",
    "posicoes_descobertas = {0,1,3}\n",
    "imprime_forca(palavra_forca, posicoes_descobertas)\n"
   ]
  },
  {
   "cell_type": "code",
   "execution_count": 7,
   "metadata": {
    "colab": {},
    "colab_type": "code",
    "id": "uGLnnSeCLTLf"
   },
   "outputs": [],
   "source": [
    "def jogo_forca():\n",
    "    \"\"\"\n",
    "    Atividade 4: implemente o jogo da forca\n",
    "    usando as funções criadas\n",
    "    \"\"\"\n",
    "    arr_palavras = ['Google', 'Jupyter', 'Hangul', 'Betim', 'Python', 'TWICE']\n",
    "    palavra = escolhe_palavra(arr_palavras)\n",
    "    print('A palavra escolhida foi: ' + ('_ ' * len(palavra))) \n",
    "    \n",
    "    tentativas = 10\n",
    "    set_posicoes = set()\n",
    "    \n",
    "    while tentativas != 0:\n",
    "        letra = input('Digite letra: ')\n",
    "        posicoes_descobertas = obtem_posicoes_letra(palavra, letra, set_posicoes)\n",
    "        imprime_forca(palavra, posicoes_descobertas)\n",
    "        tentativas = tentativas - 1\n",
    "        print('| Tentativas = ' + str(tentativas))\n",
    "        if len(palavra) == len(set_posicoes):\n",
    "            return True\n",
    "    \n",
    "    return False"
   ]
  },
  {
   "cell_type": "code",
   "execution_count": 8,
   "metadata": {
    "colab": {},
    "colab_type": "code",
    "id": "bKT3yVHJLjNZ"
   },
   "outputs": [
    {
     "name": "stdout",
     "output_type": "stream",
     "text": [
      "H a n g u l | Tentativas = 1\n",
      "\n",
      "Parabéns!!!! Você ganhou\n"
     ]
    }
   ],
   "source": [
    "print('Bem vindo ao jogo da Forca')\n",
    "print('Voce possui ao total 10 tentativas')\n",
    "print('\\n')\n",
    "\n",
    "resultado = jogo_forca()\n",
    "\n",
    "if resultado == True:\n",
    "    print('\\nParabéns!!!! Você ganhou')\n",
    "else:\n",
    "    print('\\nBom jogo, mas tente mais uma vez. Você perdeu')\n",
    "        "
   ]
  }
 ],
 "metadata": {
  "colab": {
   "name": "forca.ipynb",
   "provenance": []
  },
  "kernelspec": {
   "display_name": "Python 3",
   "language": "python",
   "name": "python3"
  },
  "language_info": {
   "codemirror_mode": {
    "name": "ipython",
    "version": 3
   },
   "file_extension": ".py",
   "mimetype": "text/x-python",
   "name": "python",
   "nbconvert_exporter": "python",
   "pygments_lexer": "ipython3",
   "version": "3.8.5"
  }
 },
 "nbformat": 4,
 "nbformat_minor": 1
}
